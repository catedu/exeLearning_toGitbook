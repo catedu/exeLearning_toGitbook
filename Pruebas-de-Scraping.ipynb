{
 "cells": [
  {
   "cell_type": "code",
   "execution_count": 4,
   "metadata": {},
   "outputs": [
    {
     "ename": "ImportError",
     "evalue": "No module named BeautifulSoup",
     "output_type": "error",
     "traceback": [
      "\u001b[0;31m---------------------------------------------------------------------------\u001b[0m",
      "\u001b[0;31mImportError\u001b[0m                               Traceback (most recent call last)",
      "\u001b[0;32m<ipython-input-4-9ab67599190c>\u001b[0m in \u001b[0;36m<module>\u001b[0;34m()\u001b[0m\n\u001b[0;32m----> 1\u001b[0;31m \u001b[0;32mfrom\u001b[0m \u001b[0mBeautifulSoup\u001b[0m \u001b[0;32mimport\u001b[0m \u001b[0;34m*\u001b[0m\u001b[0;34m\u001b[0m\u001b[0m\n\u001b[0m\u001b[1;32m      2\u001b[0m \u001b[0;32mimport\u001b[0m \u001b[0mrequests\u001b[0m\u001b[0;34m\u001b[0m\u001b[0m\n\u001b[1;32m      3\u001b[0m \u001b[0;34m\u001b[0m\u001b[0m\n\u001b[1;32m      4\u001b[0m \u001b[0murl\u001b[0m \u001b[0;34m=\u001b[0m \u001b[0;34m'http://wiki.vitalinux.educa.aragon.es/index.php/Curso_Formaci%C3%B3n_en_Vitalinux_Aularagon/indice'\u001b[0m\u001b[0;34m\u001b[0m\u001b[0m\n\u001b[1;32m      5\u001b[0m \u001b[0mr\u001b[0m \u001b[0;34m=\u001b[0m \u001b[0mrequests\u001b[0m\u001b[0;34m.\u001b[0m\u001b[0mget\u001b[0m\u001b[0;34m(\u001b[0m\u001b[0murl\u001b[0m\u001b[0;34m)\u001b[0m\u001b[0;34m\u001b[0m\u001b[0m\n",
      "\u001b[0;31mImportError\u001b[0m: No module named BeautifulSoup"
     ]
    }
   ],
   "source": [
    "from BeautifulSoup import *\n",
    "import requests\n",
    "\n",
    "url = 'http://wiki.vitalinux.educa.aragon.es/index.php/Curso_Formaci%C3%B3n_en_Vitalinux_Aularagon/indice'\n",
    "r = requests.get(url)\n",
    "rtext = unicode(r.text)\n",
    "print rtext\n",
    "\n",
    "with open('indice.txt', 'w') as file:\n",
    "    file.write(rtext)\n"
   ]
  },
  {
   "cell_type": "code",
   "execution_count": 17,
   "metadata": {},
   "outputs": [
    {
     "name": "stdout",
     "output_type": "stream",
     "text": [
      "Tillie\n"
     ]
    }
   ],
   "source": [
    "tag = '<a class=\"sister\" href=\"http://example.com/tillie\" id=\"link3\">Tillie</a>'\n",
    "soup = BeautifulSoup(tag)\n",
    "tag_extracted = soup('a')\n",
    "print(tag_extracted[0].text)\n"
   ]
  },
  {
   "cell_type": "code",
   "execution_count": 38,
   "metadata": {},
   "outputs": [
    {
     "name": "stdout",
     "output_type": "stream",
     "text": [
      "http://moodle.catedu.es/pluginfile.php/1616/mod_book/chapter/5/Inicio%20de%20sesi%C3%B3n%20en%20code.org.png\n",
      "http://moodle.catedu.es/pluginfile.php/1616/mod_book/chapter/5/UsuarioCodeModificacion.png\n",
      "http://moodle.catedu.es/pluginfile.php/1616/mod_book/chapter/5/P%C3%A1gina%20de%20inicio%20del%20maestro%20en%20code.org.png\n"
     ]
    }
   ],
   "source": [
    "#!/usr/bin/env python\n",
    "# -*- coding: utf-8 -*-\n",
    "\n",
    "from BeautifulSoup import *\n",
    "import requests\n",
    "from slugify import slugify\n",
    "\n",
    "payload = {\n",
    "    \"username\":<your-username>,\n",
    "    \"password\":<your-password>\n",
    "}\n",
    "\n",
    "paginas = [\"http://moodle.catedu.es/mod/book/view.php?id=841&chapterid=4\",\n",
    "          \"http://moodle.catedu.es/mod/book/view.php?id=841&chapterid=5\",\n",
    "          \"http://moodle.catedu.es/mod/book/view.php?id=841&chapterid=6\",\n",
    "          \"http://moodle.catedu.es/mod/book/view.php?id=841&chapterid=7\",\n",
    "          \"http://moodle.catedu.es/mod/book/view.php?id=843&chapterid=8\",\n",
    "          \"http://moodle.catedu.es/mod/book/view.php?id=843&chapterid=9\",\n",
    "          \"http://moodle.catedu.es/mod/book/view.php?id=843&chapterid=10\",\n",
    "          \"http://moodle.catedu.es/mod/book/view.php?id=843&chapterid=11\"]\n",
    "\n",
    "num_capitulos =  2 # contar_capitulos()\n",
    "\n",
    "with requests.Session() as session:\n",
    "    post = session.post('http://moodle.catedu.es/login/index.php?', data=payload)\n",
    "    pagina = session.get(paginas[1])\n",
    "    soup = BeautifulSoup(pagina.text)\n",
    "    title = soup('title')[0].text.encode('utf8')\n",
    "    archivo = slugify(title) + '.md'\n",
    "    content = str(soup.findAll('div', {'class': 'box generalbox book_content p-y-1'}, True)[0])\n",
    "    images_urls = BeautifulSoup(content)\n",
    "    images_urls = images_urls.findAll('img')\n",
    "    #print(title)\n",
    "    #print(archivo)\n",
    "    #print(content)\n",
    "    #print(images_urls)\n",
    "    for x in range(len(images_urls)):\n",
    "        source = images_urls[x]['src']\n",
    "        print(source.encode('utf8'))\n",
    "    "
   ]
  },
  {
   "cell_type": "code",
   "execution_count": 30,
   "metadata": {},
   "outputs": [
    {
     "name": "stdout",
     "output_type": "stream",
     "text": [
      "0\n",
      "http://moodle.catedu.es/mod/book/view.php?id=841&chapterid=4\n",
      "1\n",
      "http://moodle.catedu.es/mod/book/view.php?id=841&chapterid=5\n",
      "2\n",
      "http://moodle.catedu.es/mod/book/view.php?id=841&chapterid=6\n",
      "3\n",
      "http://moodle.catedu.es/mod/book/view.php?id=841&chapterid=7\n",
      "4\n",
      "http://moodle.catedu.es/mod/book/view.php?id=843&chapterid=8\n",
      "5\n",
      "http://moodle.catedu.es/mod/book/view.php?id=843&chapterid=9\n",
      "6\n",
      "http://moodle.catedu.es/mod/book/view.php?id=843&chapterid=10\n",
      "7\n",
      "http://moodle.catedu.es/mod/book/view.php?id=843&chapterid=11\n"
     ]
    }
   ],
   "source": [
    "paginas = [\"http://moodle.catedu.es/mod/book/view.php?id=841&chapterid=4\",\n",
    "          \"http://moodle.catedu.es/mod/book/view.php?id=841&chapterid=5\",\n",
    "          \"http://moodle.catedu.es/mod/book/view.php?id=841&chapterid=6\",\n",
    "          \"http://moodle.catedu.es/mod/book/view.php?id=841&chapterid=7\",\n",
    "          \"http://moodle.catedu.es/mod/book/view.php?id=843&chapterid=8\",\n",
    "          \"http://moodle.catedu.es/mod/book/view.php?id=843&chapterid=9\",\n",
    "          \"http://moodle.catedu.es/mod/book/view.php?id=843&chapterid=10\",\n",
    "          \"http://moodle.catedu.es/mod/book/view.php?id=843&chapterid=11\"]\n",
    "\n",
    "for i, pagina in enumerate(paginas):\n",
    "    print(i)\n",
    "    print(pagina)"
   ]
  },
  {
   "cell_type": "code",
   "execution_count": null,
   "metadata": {},
   "outputs": [],
   "source": []
  }
 ],
 "metadata": {
  "kernelspec": {
   "display_name": "Python 2",
   "language": "python",
   "name": "python2"
  },
  "language_info": {
   "codemirror_mode": {
    "name": "ipython",
    "version": 2
   },
   "file_extension": ".py",
   "mimetype": "text/x-python",
   "name": "python",
   "nbconvert_exporter": "python",
   "pygments_lexer": "ipython2",
   "version": "2.7.13"
  }
 },
 "nbformat": 4,
 "nbformat_minor": 2
}
